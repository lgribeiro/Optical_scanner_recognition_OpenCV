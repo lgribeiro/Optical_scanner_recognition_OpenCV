{
  "nbformat": 4,
  "nbformat_minor": 0,
  "metadata": {
    "colab": {
      "name": "cv_blob.ipynb",
      "provenance": [],
      "collapsed_sections": [],
      "authorship_tag": "ABX9TyPm4q4T54auw2pldSvXRr5P",
      "include_colab_link": true
    },
    "kernelspec": {
      "name": "python3",
      "display_name": "Python 3"
    },
    "language_info": {
      "name": "python"
    }
  },
  "cells": [
    {
      "cell_type": "markdown",
      "metadata": {
        "id": "view-in-github",
        "colab_type": "text"
      },
      "source": [
        "<a href=\"https://colab.research.google.com/github/lgribeiro/Optical_scanner_recognition_OpenCV/blob/main/mark_recognition_opencv.ipynb\" target=\"_parent\"><img src=\"https://colab.research.google.com/assets/colab-badge.svg\" alt=\"Open In Colab\"/></a>"
      ]
    },
    {
      "cell_type": "code",
      "metadata": {
        "id": "29P6Jt5RZ2rf",
        "colab": {
          "base_uri": "https://localhost:8080/"
        },
        "outputId": "c9f7f2ef-9313-4a30-d97e-3a33112a8218"
      },
      "source": [
        "import numpy as np\n",
        "import cv2\n",
        "%matplotlib inline\n",
        "from matplotlib import pyplot as plt\n",
        "from google.colab.patches import cv2_imshow\n",
        "!sudo apt install tesseract-ocr\n",
        "!pip install pytesseract\n",
        "import pytesseract as ocr\n",
        "\n",
        "#alogrithm for sorting points clockwise\n",
        "def clockwise_sort(x):\n",
        "    return (np.arctan2(x[0] - mx, x[1] - my) + 0.5 * np.pi) % (2*np.pi)\n",
        "\n",
        "image = cv2.imread('mac2166-t8.PDF-page-001-000.pbm') # [0:1000, 0:1000]\n",
        "# cv2_imshow(image)\n",
        "# print(\"shape\", image.shape)\n",
        "\n"
      ],
      "execution_count": 220,
      "outputs": [
        {
          "output_type": "stream",
          "name": "stdout",
          "text": [
            "Reading package lists... Done\n",
            "Building dependency tree       \n",
            "Reading state information... Done\n",
            "tesseract-ocr is already the newest version (4.00~git2288-10f4998a-2).\n",
            "0 upgraded, 0 newly installed, 0 to remove and 37 not upgraded.\n",
            "Requirement already satisfied: pytesseract in /usr/local/lib/python3.7/dist-packages (0.3.8)\n",
            "Requirement already satisfied: Pillow in /usr/local/lib/python3.7/dist-packages (from pytesseract) (7.1.2)\n"
          ]
        }
      ]
    },
    {
      "cell_type": "code",
      "metadata": {
        "id": "K1hMdt8lpKf-"
      },
      "source": [
        "class preProcessing:\n",
        "    def __init__(self):\n",
        "      self.img = None\n",
        "      self.shape = None\n",
        "      self.len_quad = 150 \n",
        "      self.kernel = np.ones((3,3),np.uint8)      \n",
        "\n",
        "    def resize(self, img):\n",
        "        ratio = len(img[0]) / 1000.0\n",
        "        self.img = cv2.resize(img, (0,0), fx=1/ratio, fy=1/ratio)\n",
        "        \n",
        "        self.shape = self.img.shape\n",
        "        print(\"resize\", self.shape)\n",
        "        return self.img\n",
        "\n",
        "    def gray(self, img):\n",
        "        # cv2_imshow(img)\n",
        "        #gray and filter the image\n",
        "        img = cv2.cvtColor(img, cv2.COLOR_BGR2GRAY)\n",
        "        return img\n",
        "\n",
        "    def bilateralFilter(self, img):\n",
        "        #bilateral filtering removes noise and preserves edges\n",
        "        img = cv2.bilateralFilter(img, 11, 17, 17)\n",
        "        # cv2_imshow(img)\n",
        "        return img\n",
        "\n",
        "    def blur(self, img):\n",
        "        # Blur\n",
        "        img = cv2.blur(img, (3,3))\n",
        "        # cv2_imshow(img)\n",
        "        return img\n",
        "\n",
        "    def gaussian_blur(self, img):\n",
        "        img = cv2.GaussianBlur(img, (7, 7), 0)\n",
        "        return img\n",
        "\n",
        "    def thresh_binary(self, img):\n",
        "        (T, img) = cv2.threshold(blurred, 230, 255, cv2.THRESH_BINARY_INV)\n",
        "        # cv2_imshow(threshInv)\n",
        "        return img\n",
        "\n",
        "    def erode(self, img):\n",
        "        img = cv2.erode(img,self.kernel,iterations = 1)\n",
        "        # cv2_imshow(erode)\n",
        "        return img\n",
        "\n",
        "    def dilate(self, img):\n",
        "        img = cv2.dilate(img,self.kernel,iterations = 1)\n",
        "        # cv2_imshow(dilation)\n",
        "        return img\n",
        "\n",
        "    def opening(self, img):\n",
        "        # # Opening - It is just another name of erosion followed by dilation. \n",
        "        # # It is useful in removing noise, as we explained above. Here we use the function, cv2.morphologyEx()\n",
        "        img = cv2.morphologyEx(erode, cv2.MORPH_OPEN, self.kernel)\n",
        "        # cv2_imshow(opening)\n",
        "        return img\n",
        "\n",
        "    def closing(self, img):\n",
        "        closing = cv2.morphologyEx(erode, cv2.MORPH_CLOSE, self.kernel)\n",
        "        # cv2_imshow(closing)\n",
        "        return img\n",
        "\n",
        "    def gradient(self, img):\n",
        "        # # Morphological Gradient - It is the difference between dilation and erosion of an image.\n",
        "        img = cv2.morphologyEx(img, cv2.MORPH_GRADIENT, self.kernel)\n",
        "        # cv2_imshow(gradient)\n",
        "        return img\n",
        "\n",
        "    def otsu(self, img):\n",
        "        # OTSU\n",
        "        ret, img = cv2.threshold(img, 127, 255, cv2.THRESH_BINARY | cv2.THRESH_OTSU) \n",
        "        # cv2_imshow( img)\n",
        "        return img\n",
        "\n",
        "    def laplacian(self, img):\n",
        "        # Laplacian Derivatives\n",
        "        img = cv2.Laplacian(img,cv2.CV_64F)\n",
        "        # cv2_imshow(img_laplacian)\n",
        "        return img\n",
        "\n",
        "    def quadrants(self):\n",
        "        # crop quadrants of image\n",
        "        # print(\"resize\", self.shape)\n",
        "        h, w, _ = self.shape\n",
        "        t = self.len_quad\n",
        "        # roi = img[y1:y2, x1:x2]\n",
        "        q1 = img[0:t  ,   0:t].copy() \n",
        "        q2 = img[0:t  , w-t:w].copy()\n",
        "        q3 = img[h-t:h,   0:t].copy()\n",
        "        q4 = img[h-t:h, w-t:w].copy() \n",
        "        # Detecting blobs. \n",
        "        # cv2_imshow(q1)\n",
        "        return [q1, q2, q3, q4]\n",
        "\n",
        "    def mount(self, quads):\n",
        "        # fix points in image due the tranformation image in quadrants\n",
        "        if len(quads)>1:\n",
        "            point_rect = []\n",
        "            t = self.len_quad\n",
        "            # print(\"resize\", self.shape)\n",
        "            h, w = self.shape[:2]\n",
        "            for n, q in enumerate(quads):\n",
        "                if n==0:\n",
        "                    point_rect.append((q[0]     , q[1]     ))\n",
        "                elif n==1:    \n",
        "                    point_rect.append((q[0]+w-t , q[1]     ))\n",
        "                elif n==2:\n",
        "                    point_rect.append((q[0]     , q[1]+h-t ))\n",
        "                elif n==3:\n",
        "                    point_rect.append((q[0]+w-t , q[1]+h-t ))\n",
        "        return point_rect\n"
      ],
      "execution_count": 221,
      "outputs": []
    },
    {
      "cell_type": "code",
      "metadata": {
        "id": "cjuWFQjPzRLc"
      },
      "source": [
        "def list_points(keypoints):\n",
        "    found=[]\n",
        "    pts=[]\n",
        "    radius=[]\n",
        "    for n, keypoint in enumerate(keypoints):\n",
        "    # find largest blob\n",
        "        if len(keypoint) > 0:\n",
        "            # print(keypoints)\n",
        "            kp_max = keypoint[0]\n",
        "            for kp in keypoint:\n",
        "                if kp.size > kp_max.size:\n",
        "                    kp_max = kp                    \n",
        "            point_found = n\n",
        "            point_x = kp_max.pt[0]\n",
        "            point_y = kp_max.pt[1]\n",
        "            point_radius = kp_max.size\n",
        "            # print(point_found, point_x, point_y, point_radius, kp_max)\n",
        "            found.append(point_found)\n",
        "            pts.append( [point_x, point_y])\n",
        "            radius.append(point_radius)\n",
        "\n",
        "    return found, pts, radius"
      ],
      "execution_count": 222,
      "outputs": []
    },
    {
      "cell_type": "code",
      "metadata": {
        "id": "sE9cMojszVTj"
      },
      "source": [
        "import math\n",
        "\n",
        "def rotate_img(points, img):\n",
        "    # calculate for distance and angle arct\n",
        "\n",
        "\n",
        "    return\n",
        "\n",
        "def convert_pts_to_keypoints(pts, sizes): \n",
        "    kps = []\n",
        "    if pts is not None:\n",
        "        kps = [ cv2.KeyPoint(p[0], p[1], _size=size) for p, size in zip(pts,sizes) ]\n",
        "\n",
        "    return kps \n",
        "def draw_rects(points, sizes, img):\n",
        "    # draw keypoints\n",
        "    rect_keypoints = convert_pts_to_keypoints(points, sizes)\n",
        "    img_rect = cv2.drawKeypoints(img, rect_keypoints, np.array([]), (0,0,255), cv2.DRAW_MATCHES_FLAGS_DRAW_RICH_KEYPOINTS)\n",
        "    # draw rectangle\n",
        "    if (points[0] and points[3]):\n",
        "        img_rect1 = cv2.rectangle(img_rect, (int(points[0][0]), int(points[0][1])), (int(points[3][0]), int(points[3][1])), (200,100,0), 2) \n",
        "        # cv2_imshow(img_rect)\n",
        "    elif (points[1] and points[2]):\n",
        "        img_rect1 = cv2.rectangle(img_rect, (int(points[1][0]), int(points[1][1])), (int(points[2][0]), int(points[2][1])), (100,200,0), 2)\n",
        "        # cv2_imshow(img_rect1)\n",
        "    return img_rect\n",
        "\n",
        "def distance(centers):\n",
        "    length= []\n",
        "    for (i, j) in zip(range(4), [1, 2, 3, 0]):\n",
        "        length.append(math.sqrt( ((centers[i][0]-centers[j][0])**2)+((centers[i][1]-centers[j][1])**2) ))\n",
        "        # print('Length of side {}: {}'.format(i+1, length[i]))\n",
        "    return length\n",
        "\n",
        "def nusp_rect(W, pts, img):\n",
        "    '''\n",
        "    Input\n",
        "      W: referencial line\n",
        "      pts: coord  initial (0,0)\n",
        "      img: image \n",
        "    returns\n",
        "      points: coord nusp rectangle\n",
        "      img_nusp: image with drawed nusp rectangule\n",
        "    '''\n",
        "    # print(pts)\n",
        "    points = []    \n",
        "    # Corner top left → \n",
        "    points.append((W*0.0457+pts[0], W*0.112+pts[1]))\n",
        "    # Corner down right → \n",
        "    points.append((W*0.2484+pts[0], W*0.4049+pts[1]))\n",
        "\n",
        "    img = cv2.rectangle(img, (int(points[0][0]), int(points[0][1])), (int(points[1][0]), int(points[1][1])), (100,200,0), 1)\n",
        "    # cv2_imshow(img)\n",
        "\n",
        "    return points, img\n",
        "\n",
        "def nusp_sub_rect (W, pts, img, mode=1):\n",
        "    points = []\n",
        "    w_px = W*0.00607\n",
        "    y_px = W*0.0102\n",
        "    l_px = W*0.02\n",
        "    dy  = 0\n",
        "    c = 0 \n",
        "    for j in range(20):\n",
        "        dw  = 0\n",
        "        if j > 0:\n",
        "            dy += l_px + y_px\n",
        "        \n",
        "        for i in range(8):\n",
        "            if i > 0:\n",
        "                dw += l_px + w_px\n",
        "                             \n",
        "            points.append((dw + pts[0]       , dy + pts[1]))\n",
        "            points.append((dw + l_px + pts[0], dy + l_px + pts[1]))\n",
        "            \n",
        "            if c%2==0:\n",
        "                img = cv2.rectangle(img, (int(points[c][0]), int(points[c][1])), (int(points[c+1][0]), int(points[c+1][1])), (200,50,0), 1)\n",
        "            c += 1\n",
        "    return points, img\n",
        "\n",
        "def code_rect(W, pts, img):\n",
        "    '''\n",
        "    Input\n",
        "      W: referencial line\n",
        "      pts: coord  initial (0,0)\n",
        "      img: image \n",
        "    returns\n",
        "      points: coord for exam code rectangle\n",
        "      n_cod2: image with drawed exam code rectangule\n",
        "    '''\n",
        "    points = []\n",
        "    # Retângulo vermelho superior\n",
        "    # Canto superior esquerdo →\n",
        "    points.append((W*0.258+pts[0], W*(-0.0434)+pts[1]))\n",
        "    # Canto inferior direito → \n",
        "    points.append((W*0.473+pts[0], W*(-0.025)+pts[1]))\n",
        "\n",
        "    # Retângulo vermelho inferior:\n",
        "    # Canto superior esquerdo →\n",
        "    points.append((W*0.258+pts[0], W*(-0.02075)+pts[1]))\n",
        "    # Canto inferior direito → \n",
        "    points.append((W*0.473+pts[0], W*(-0.0031)+pts[1]))\n",
        "\n",
        "    img = cv2.rectangle(img, (int(points[0][0]), int(points[0][1])), (int(points[1][0]), int(points[1][1])), (0,0,210), 1)\n",
        "    img = cv2.rectangle(img, (int(points[2][0]), int(points[2][1])), (int(points[3][0]), int(points[3][1])), (0,0,210), 1)\n",
        "    # cv2_imshow(n_cod2)\n",
        "\n",
        "    return points, img\n",
        "\n",
        "def code_sub_rect (W, pts, img, mode=1):\n",
        "    points1 = []\n",
        "    points2 = []\n",
        "    print(pts)\n",
        "    print(pts[2][1])\n",
        "    w_px = W*0.0029\n",
        "    l_px = W*0.015\n",
        "\n",
        "    dw = 0\n",
        "    for i in range(24):                          \n",
        "        points1.append((dw + pts[0][0] + w_px       , pts[0][1] + w_px      ))\n",
        "        points1.append((dw + l_px + pts[0][0] , l_px + pts[0][1]))\n",
        "        dw += l_px + w_px\n",
        "\n",
        "        if i%2==0:\n",
        "            img = cv2.rectangle(img, (int(points1[i][0]), int(points1[i][1])), (int(points1[i+1][0]), int(points1[i+1][1])), (200,50,0), 1)\n",
        "    dw = 0\n",
        "    for i in range(24):                            \n",
        "        points2.append((dw + pts[2][0] + w_px       , pts[2][1] + w_px      ))\n",
        "        points2.append((dw + l_px + pts[2][0] , l_px + pts[2][1]))\n",
        "        dw += l_px + w_px\n",
        "\n",
        "        if i%2==0:\n",
        "            img = cv2.rectangle(img, (int(points2[i][0]), int(points2[i][1])), (int(points2[i+1][0]), int(points2[i+1][1])), (50,200,0), 1)\n",
        "\n",
        "    return points1, points2, img\n",
        "\n",
        "def ocr_rect(W, pts, img):\n",
        "    # print(pts)\n",
        "    points = []    \n",
        "    # Canto superior esquerdo →\n",
        "    points.append((W*0.63+pts[0], W*(-0.023)+pts[1]))\n",
        "    # Canto inferior direito → \n",
        "    points.append((W*0.77+pts[0], W*(0)+pts[1]))\n",
        "\n",
        "    img_ocr = cv2.rectangle(img, (int(points[0][0]), int(points[0][1])), (int(points[1][0]), int(points[1][1])), (200,200,0), 2)\n",
        "    # cv2_imshow(img_nusp)\n",
        "\n",
        "    return points, img_ocr"
      ],
      "execution_count": 223,
      "outputs": []
    },
    {
      "cell_type": "code",
      "metadata": {
        "id": "YNMGLHL2zVWk"
      },
      "source": [
        ""
      ],
      "execution_count": 223,
      "outputs": []
    },
    {
      "cell_type": "code",
      "metadata": {
        "colab": {
          "base_uri": "https://localhost:8080/"
        },
        "id": "ct7ijIFwtq8z",
        "outputId": "a3e37d6c-4c34-49e5-ff32-96c1e8b99667"
      },
      "source": [
        "pre = preProcessing()\n",
        "image = pre.resize(image)\n",
        "image = pre.gray(image)\n",
        "image = pre.bilateralFilter(image)\n",
        "image = pre.otsu(image)\n",
        "img = image.copy()\n",
        "# cv2_imshow( img)\n",
        "# print(img.shape)\n",
        "quad = pre.quadrants()"
      ],
      "execution_count": 224,
      "outputs": [
        {
          "output_type": "stream",
          "name": "stdout",
          "text": [
            "resize (1414, 1000, 3)\n"
          ]
        }
      ]
    },
    {
      "cell_type": "code",
      "metadata": {
        "colab": {
          "base_uri": "https://localhost:8080/",
          "height": 217
        },
        "id": "vxvd0oFc1Tq0",
        "outputId": "263bb67b-00f4-4e19-c72c-2b01bf0312ce"
      },
      "source": [
        "# Create a detector without the parameters\n",
        "detector = cv2.SimpleBlobDetector_create()\n",
        "\n",
        "# Detect blobs.\n",
        "keypoints = detector.detect(quad[0])\n",
        "\n",
        "# Draw detected blobs as red circles.\n",
        "# cv2.DRAW_MATCHES_FLAGS_DRAW_RICH_KEYPOINTS ensures\n",
        "# the size of the circle corresponds to the size of blob\n",
        "im_with_keypoints = cv2.drawKeypoints(quad[0], keypoints, np.array([]), (20,200,0), cv2.DRAW_MATCHES_FLAGS_DRAW_RICH_KEYPOINTS)\n",
        "\n",
        "# Show blobs\n",
        "# cv2_imshow(im_with_keypoints)\n",
        "cv2_imshow(cv2.resize(im_with_keypoints, (200, 200)))\n",
        "# cv2.waitKey(0)"
      ],
      "execution_count": 225,
      "outputs": [
        {
          "output_type": "display_data",
          "data": {
            "image/png": "[encoded data removed]",
            "text/plain": [
              "<PIL.Image.Image image mode=RGB size=200x200 at 0x7FBEF02779D0>"
            ]
          },
          "metadata": {}
        }
      ]
    },
    {
      "cell_type": "code",
      "metadata": {
        "id": "7ZWReHcdyyOr"
      },
      "source": [
        "def SimpleBlobDetector(quad):\n",
        "    keypoints = []\n",
        "    # Setup SimpleBlobDetector parameters.\n",
        "    params = cv2.SimpleBlobDetector_Params()\n",
        "\n",
        "    # Change thresholds\n",
        "    params.minThreshold = 10\n",
        "    params.maxThreshold = 200\n",
        "\n",
        "    # Filter by Area.\n",
        "    params.filterByArea = True\n",
        "    params.maxArea = 280\n",
        "    params.minArea = 200\n",
        "\n",
        "    # Filter by Circularity\n",
        "    params.filterByCircularity = True\n",
        "    params.minCircularity = 0.1\n",
        "\n",
        "    # Filter by Convexity\n",
        "    params.filterByConvexity = True\n",
        "    params.minConvexity = 0.87\n",
        "\n",
        "    # Filter by Inertia\n",
        "    params.filterByInertia = True\n",
        "    params.minInertiaRatio = 0.01\n",
        "\n",
        "    # Create a detector with the parameters\n",
        "    detector = cv2.SimpleBlobDetector_create(params)\n",
        "\n",
        "    # Detect blobs.\n",
        "    keypoints = [detector.detect(q) for q in quad]\n",
        "    return keypoints"
      ],
      "execution_count": 226,
      "outputs": []
    },
    {
      "cell_type": "code",
      "metadata": {
        "id": "velZSoO1yxXq"
      },
      "source": [
        "# img_keypoints = cv2.drawKeypoints(img, keypoints[0], np.array([]), (0,0,255), cv2.DRAW_MATCHES_FLAGS_DRAW_RICH_KEYPOINTS)\n",
        "# cv2_imshow(img_keypoints)"
      ],
      "execution_count": 227,
      "outputs": []
    },
    {
      "cell_type": "code",
      "metadata": {
        "colab": {
          "base_uri": "https://localhost:8080/"
        },
        "id": "NKRARZXL3mvZ",
        "outputId": "f37e68ac-28b3-40cb-9fcc-0104dad35d64"
      },
      "source": [
        "keypoints = SimpleBlobDetector(quad)\n",
        "found, points, sizes = list_points(keypoints)\n",
        "print(\"original points\", points)\n",
        "points = pre.mount(points)\n",
        "print(\"Trasnformation\", points) \n",
        "print(\"sizes\",sizes)"
      ],
      "execution_count": 228,
      "outputs": [
        {
          "output_type": "stream",
          "name": "stdout",
          "text": [
            "original points [[66.33842468261719, 80.5], [70.81729888916016, 78.88888549804688], [66.24114990234375, 58.44247817993164], [72.3234634399414, 57.252288818359375]]\n",
            "Trasnformation [(66.33842468261719, 80.5), (920.8172988891602, 78.88888549804688), (66.24114990234375, 1322.4424781799316), (922.3234634399414, 1321.2522888183594)]\n",
            "sizes [17.2130126953125, 16.812278747558594, 17.06877899169922, 17.417381286621094]\n"
          ]
        }
      ]
    },
    {
      "cell_type": "code",
      "metadata": {
        "colab": {
          "base_uri": "https://localhost:8080/",
          "height": 1000
        },
        "id": "5poI1rEoce2K",
        "outputId": "cc9b99b6-7236-4279-feed-90cdfe22e511"
      },
      "source": [
        "dist = distance(points)\n",
        "img_rect = draw_rects(points, sizes, img)\n",
        "pt_usp, img_rect = nusp_rect(dist[0], points[0], img_rect)\n",
        "pt_code, img_rect = code_rect(dist[0], points[0], img_rect)\n",
        "\n",
        "print(pt_code)\n",
        "pt_ocr, img_rect = ocr_rect(dist[0], points[0], img_rect)\n",
        "print(\"ocr\", pt_ocr)\n",
        "pt_sub_usp, img_rect = nusp_sub_rect(dist[0], pt_usp[0], img_rect)\n",
        "pt_sub_code1, pt_sub_code2, img_rect = code_sub_rect(dist[0], pt_code, img_rect)\n",
        "cv2_imshow(img_rect)"
      ],
      "execution_count": 229,
      "outputs": [
        {
          "output_type": "stream",
          "name": "stdout",
          "text": [
            "[(286.79436609681454, 43.41555094040246), (470.5076506086457, 59.137990173042894), (286.79436609681454, 62.7695318436256), (470.5076506086457, 77.85111078145732)]\n",
            "ocr [(604.6610723219363, 60.84695095919946), (724.2883273528962, 80.5)]\n",
            "[(286.79436609681454, 43.41555094040246), (470.5076506086457, 59.137990173042894), (286.79436609681454, 62.7695318436256), (470.5076506086457, 77.85111078145732)]\n",
            "62.7695318436256\n"
          ]
        },
        {
          "output_type": "display_data",
          "data": {
            "image/png": "[encoded data removed]",
            "text/plain": [
              "<PIL.Image.Image image mode=RGB size=1000x1414 at 0x7FBEF0297AD0>"
            ]
          },
          "metadata": {}
        }
      ]
    },
    {
      "cell_type": "code",
      "metadata": {
        "id": "kL3uvCWKPQk4"
      },
      "source": [
        "def recognize_code(pts):\n",
        "    c=0\n",
        "    # TO STORE THE NON ZERO VALUES OF EACH BOX\n",
        "    myPixelVal = np.zeros(12) \n",
        "    for i in range(24):\n",
        "        if i%2==0:\n",
        "          idx = int(i/2)\n",
        "          img_qd = image[int(pts[i][1]):int(pts[i+1][1]), int(pts[i][0]):int(pts[i+1][0])]\n",
        "          totalPixels = cv2.countNonZero(img_qd)\n",
        "          if totalPixels<50:\n",
        "              myPixelVal[idx]= 1\n",
        "    # print(\"myPixelVal reversed\\n\", myPixelVal[::-1])\n",
        "    # print(\"myPixelVal\\n\", myPixelVal)\n",
        "    return myPixelVal\n",
        "\n",
        "def covert_binary_to_decimal(code):\n",
        "    result = 0\n",
        "    for i, n in enumerate(reversed(code)):\n",
        "        # print(i,n)\n",
        "        result += n*(2**i)\n",
        "    return result\n",
        "\n",
        "def val_code(test, page):\n",
        "    code=60-((test-1)*4+(page-1))%60\n",
        "    return code\n",
        "\n",
        "def ocr_code(pt_ocr, img):\n",
        "\n",
        "    crop_ocr = img[int(pt_ocr[0][1]):int(pt_ocr[1][1]), int(pt_ocr[0][0]):int(pt_ocr[1][0])].copy()\n",
        "\n",
        "    extractedInformation = ocr.image_to_string(crop_ocr)\n",
        "    # print(extractedInformation)\n",
        "    test, page, code  = extractedInformation.split(\"+\")[1].split(\"/\")\n",
        "\n",
        "    return test, page, code\n"
      ],
      "execution_count": 230,
      "outputs": []
    },
    {
      "cell_type": "code",
      "metadata": {
        "colab": {
          "base_uri": "https://localhost:8080/"
        },
        "id": "RC4KiDkY326K",
        "outputId": "cebf6f21-4f0f-4c6a-cd9c-7010be16c320"
      },
      "source": [
        "test_ocr, page_ocr, code_ocr = ocr_code(pt_ocr, img)\n",
        "print('OCR detection:')\n",
        "print('test number: {}'.format(test_ocr))\n",
        "print('page: {} code: {}'.format(page_ocr, code_ocr))"
      ],
      "execution_count": 231,
      "outputs": [
        {
          "output_type": "stream",
          "name": "stdout",
          "text": [
            "OCR detection:\n",
            "test number: 780\n",
            "page: 1 code: 4\n"
          ]
        }
      ]
    },
    {
      "cell_type": "code",
      "metadata": {
        "colab": {
          "base_uri": "https://localhost:8080/"
        },
        "id": "5H-B4i4cGqEX",
        "outputId": "6236ff87-512c-418b-8708-a8f6cca70b9d"
      },
      "source": [
        "code1 = recognize_code(pt_sub_code1)\n",
        "code2 = recognize_code(pt_sub_code2)\n",
        "\n",
        "test_blob = covert_binary_to_decimal(code1)\n",
        "page_blob = covert_binary_to_decimal(code2[:6])\n",
        "n_code_blob = covert_binary_to_decimal(code2[6:])\n",
        "\n",
        "print(\"Blob detection:\\nteste number: {}\\npage: {} code: {}\".format(test_blob, page_blob, n_code_blob))"
      ],
      "execution_count": 232,
      "outputs": [
        {
          "output_type": "stream",
          "name": "stdout",
          "text": [
            "Blob detection:\n",
            "teste number: 780.0\n",
            "page: 1.0 code: 4.0\n"
          ]
        }
      ]
    },
    {
      "cell_type": "code",
      "metadata": {
        "colab": {
          "base_uri": "https://localhost:8080/"
        },
        "id": "7ocpWevgWMWR",
        "outputId": "1aca67ca-a031-4a37-e474-ce59bb779469"
      },
      "source": [
        "v_code = val_code(test_blob, page_blob)\n",
        "print(\"Validation code:\\nteste number: {}\\npage: {} code: {}\".format(test_blob, page_blob, v_code))"
      ],
      "execution_count": 233,
      "outputs": [
        {
          "output_type": "stream",
          "name": "stdout",
          "text": [
            "Validation code:\n",
            "teste number: 780.0\n",
            "page: 1.0 code: 4.0\n"
          ]
        }
      ]
    },
    {
      "cell_type": "code",
      "metadata": {
        "id": "rHbW3-NJWMZM"
      },
      "source": [
        ""
      ],
      "execution_count": 233,
      "outputs": []
    }
  ]
}